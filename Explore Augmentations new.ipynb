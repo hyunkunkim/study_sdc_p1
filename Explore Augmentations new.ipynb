{
 "cells": [
  {
   "cell_type": "markdown",
   "id": "957fe0ac",
   "metadata": {},
   "source": [
    "# Explore data augmentations  \n",
    "This notebook will be used to test different data augmentation strategies."
   ]
  },
  {
   "cell_type": "code",
   "execution_count": null,
   "id": "ae4bb9f3",
   "metadata": {},
   "outputs": [],
   "source": []
  }
 ],
 "metadata": {
  "kernelspec": {
   "display_name": "Python 3 (ipykernel)",
   "language": "python",
   "name": "python3"
  },
  "language_info": {
   "codemirror_mode": {
    "name": "ipython",
    "version": 3
   },
   "file_extension": ".py",
   "mimetype": "text/x-python",
   "name": "python",
   "nbconvert_exporter": "python",
   "pygments_lexer": "ipython3",
   "version": "3.8.10"
  }
 },
 "nbformat": 4,
 "nbformat_minor": 5
}
