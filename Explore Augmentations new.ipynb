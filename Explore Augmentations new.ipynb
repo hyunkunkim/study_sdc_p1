{
 "cells": [
  {
   "cell_type": "markdown",
   "id": "1b89247e",
   "metadata": {},
   "source": [
    "# Explore data augmentations  \n",
    "This notebook will be used to test different data augmentation strategies."
   ]
  },
  {
   "cell_type": "code",
   "execution_count": 3,
   "id": "e37d2ee6",
   "metadata": {},
   "outputs": [],
   "source": [
    "import matplotlib.pyplot as plt\n",
    "import numpy as np\n",
    "from matplotlib.patches import Rectangle"
   ]
  },
  {
   "cell_type": "code",
   "execution_count": 4,
   "id": "bff93516",
   "metadata": {},
   "outputs": [],
   "source": [
    "def recenter_image(image):\n",
    "    # ssd preprocessing\n",
    "    image += [123.68, 116.779, 103.939]\n",
    "    return image\n",
    "\n",
    "def display_instances(image, bboxes, classes):\n",
    "    image = recenter_image(image)\n",
    "    w, h, _ = image.shape\n",
    "    # resize the bboxes\n",
    "    bboxes[:, [0, 2]] *= w\n",
    "    bboxes[:, [1, 3]] *= h\n",
    "    f, ax = plt.subplots(1, figsize=(10, 10))\n",
    "    ax.imshow(image.astype(np.uint8))\n",
    "    for bb, cl in zip(bboxes, classes):\n",
    "        y1, x1, y2, x2 = bb\n",
    "        rec = Rectangle((x1, y1), x2-x1, y2-y1, facecolor='none', edgecolor='r', linewidth=2)\n",
    "        ax.add_patch(rec)\n",
    "    plt.show()\n",
    "    \n",
    "def display_batch(batch):\n",
    "        # get images, bboxes and classes\n",
    "        batched_images = batch[0]['image'].numpy()\n",
    "        batched_bboxes = batch[1]['groundtruth_boxes'].numpy()\n",
    "        batched_classes = batch[1]['groundtruth_classes'].numpy()\n",
    "        num_bboxes = batch[1]['num_groundtruth_boxes'].numpy()\n",
    "        batch_size = batched_images.shape[0]\n",
    "        for idx in range(batch_size):\n",
    "            display_instances(batched_images[idx, ...], \n",
    "                              batched_bboxes[idx, :num_bboxes[idx], :],\n",
    "                              batched_classes[idx, ...])"
   ]
  },
  {
   "cell_type": "code",
   "execution_count": 5,
   "id": "9a7fc5db",
   "metadata": {},
   "outputs": [],
   "source": [
    "from utils import get_train_input"
   ]
  },
  {
   "cell_type": "code",
   "execution_count": 7,
   "id": "eafb4965",
   "metadata": {},
   "outputs": [
    {
     "ename": "NotFoundError",
     "evalue": "../solution/pipeline_new.config; No such file or directory",
     "output_type": "error",
     "traceback": [
      "\u001b[0;31m---------------------------------------------------------------------------\u001b[0m",
      "\u001b[0;31mNotFoundError\u001b[0m                             Traceback (most recent call last)",
      "\u001b[0;32m/tmp/ipykernel_1540/2145423066.py\u001b[0m in \u001b[0;36m<module>\u001b[0;34m\u001b[0m\n\u001b[0;32m----> 1\u001b[0;31m \u001b[0mtrain_dataset\u001b[0m \u001b[0;34m=\u001b[0m \u001b[0mget_train_input\u001b[0m\u001b[0;34m(\u001b[0m\u001b[0;34m\"../solution/pipeline_new.config\"\u001b[0m\u001b[0;34m)\u001b[0m\u001b[0;34m\u001b[0m\u001b[0;34m\u001b[0m\u001b[0m\n\u001b[0m",
      "\u001b[0;32m/app/project/study_sdc_p1/utils.py\u001b[0m in \u001b[0;36mget_train_input\u001b[0;34m(config_path)\u001b[0m\n\u001b[1;32m     46\u001b[0m   \"\"\"\n\u001b[1;32m     47\u001b[0m   \u001b[0;31m# parse config\u001b[0m\u001b[0;34m\u001b[0m\u001b[0;34m\u001b[0m\u001b[0;34m\u001b[0m\u001b[0m\n\u001b[0;32m---> 48\u001b[0;31m   \u001b[0mconfigs\u001b[0m \u001b[0;34m=\u001b[0m \u001b[0mget_configs_from_pipeline_file\u001b[0m\u001b[0;34m(\u001b[0m\u001b[0mconfig_path\u001b[0m\u001b[0;34m)\u001b[0m\u001b[0;34m\u001b[0m\u001b[0;34m\u001b[0m\u001b[0m\n\u001b[0m\u001b[1;32m     49\u001b[0m   \u001b[0mtrain_config\u001b[0m \u001b[0;34m=\u001b[0m \u001b[0mconfigs\u001b[0m\u001b[0;34m[\u001b[0m\u001b[0;34m'train_config'\u001b[0m\u001b[0;34m]\u001b[0m\u001b[0;34m\u001b[0m\u001b[0;34m\u001b[0m\u001b[0m\n\u001b[1;32m     50\u001b[0m   \u001b[0mtrain_input_config\u001b[0m \u001b[0;34m=\u001b[0m \u001b[0mconfigs\u001b[0m\u001b[0;34m[\u001b[0m\u001b[0;34m'train_input_config'\u001b[0m\u001b[0;34m]\u001b[0m\u001b[0;34m\u001b[0m\u001b[0;34m\u001b[0m\u001b[0m\n",
      "\u001b[0;32m/usr/local/lib/python3.8/dist-packages/object_detection/utils/config_util.py\u001b[0m in \u001b[0;36mget_configs_from_pipeline_file\u001b[0;34m(pipeline_config_path, config_override)\u001b[0m\n\u001b[1;32m    136\u001b[0m   \u001b[0mpipeline_config\u001b[0m \u001b[0;34m=\u001b[0m \u001b[0mpipeline_pb2\u001b[0m\u001b[0;34m.\u001b[0m\u001b[0mTrainEvalPipelineConfig\u001b[0m\u001b[0;34m(\u001b[0m\u001b[0;34m)\u001b[0m\u001b[0;34m\u001b[0m\u001b[0;34m\u001b[0m\u001b[0m\n\u001b[1;32m    137\u001b[0m   \u001b[0;32mwith\u001b[0m \u001b[0mtf\u001b[0m\u001b[0;34m.\u001b[0m\u001b[0mgfile\u001b[0m\u001b[0;34m.\u001b[0m\u001b[0mGFile\u001b[0m\u001b[0;34m(\u001b[0m\u001b[0mpipeline_config_path\u001b[0m\u001b[0;34m,\u001b[0m \u001b[0;34m\"r\"\u001b[0m\u001b[0;34m)\u001b[0m \u001b[0;32mas\u001b[0m \u001b[0mf\u001b[0m\u001b[0;34m:\u001b[0m\u001b[0;34m\u001b[0m\u001b[0;34m\u001b[0m\u001b[0m\n\u001b[0;32m--> 138\u001b[0;31m     \u001b[0mproto_str\u001b[0m \u001b[0;34m=\u001b[0m \u001b[0mf\u001b[0m\u001b[0;34m.\u001b[0m\u001b[0mread\u001b[0m\u001b[0;34m(\u001b[0m\u001b[0;34m)\u001b[0m\u001b[0;34m\u001b[0m\u001b[0;34m\u001b[0m\u001b[0m\n\u001b[0m\u001b[1;32m    139\u001b[0m     \u001b[0mtext_format\u001b[0m\u001b[0;34m.\u001b[0m\u001b[0mMerge\u001b[0m\u001b[0;34m(\u001b[0m\u001b[0mproto_str\u001b[0m\u001b[0;34m,\u001b[0m \u001b[0mpipeline_config\u001b[0m\u001b[0;34m)\u001b[0m\u001b[0;34m\u001b[0m\u001b[0;34m\u001b[0m\u001b[0m\n\u001b[1;32m    140\u001b[0m   \u001b[0;32mif\u001b[0m \u001b[0mconfig_override\u001b[0m\u001b[0;34m:\u001b[0m\u001b[0;34m\u001b[0m\u001b[0;34m\u001b[0m\u001b[0m\n",
      "\u001b[0;32m/usr/local/lib/python3.8/dist-packages/tensorflow/python/lib/io/file_io.py\u001b[0m in \u001b[0;36mread\u001b[0;34m(self, n)\u001b[0m\n\u001b[1;32m    115\u001b[0m       \u001b[0mstring\u001b[0m \u001b[0;32mif\u001b[0m \u001b[0;32min\u001b[0m \u001b[0mstring\u001b[0m \u001b[0;34m(\u001b[0m\u001b[0mregular\u001b[0m\u001b[0;34m)\u001b[0m \u001b[0mmode\u001b[0m\u001b[0;34m.\u001b[0m\u001b[0;34m\u001b[0m\u001b[0;34m\u001b[0m\u001b[0m\n\u001b[1;32m    116\u001b[0m     \"\"\"\n\u001b[0;32m--> 117\u001b[0;31m     \u001b[0mself\u001b[0m\u001b[0;34m.\u001b[0m\u001b[0m_preread_check\u001b[0m\u001b[0;34m(\u001b[0m\u001b[0;34m)\u001b[0m\u001b[0;34m\u001b[0m\u001b[0;34m\u001b[0m\u001b[0m\n\u001b[0m\u001b[1;32m    118\u001b[0m     \u001b[0;32mif\u001b[0m \u001b[0mn\u001b[0m \u001b[0;34m==\u001b[0m \u001b[0;34m-\u001b[0m\u001b[0;36m1\u001b[0m\u001b[0;34m:\u001b[0m\u001b[0;34m\u001b[0m\u001b[0;34m\u001b[0m\u001b[0m\n\u001b[1;32m    119\u001b[0m       \u001b[0mlength\u001b[0m \u001b[0;34m=\u001b[0m \u001b[0mself\u001b[0m\u001b[0;34m.\u001b[0m\u001b[0msize\u001b[0m\u001b[0;34m(\u001b[0m\u001b[0;34m)\u001b[0m \u001b[0;34m-\u001b[0m \u001b[0mself\u001b[0m\u001b[0;34m.\u001b[0m\u001b[0mtell\u001b[0m\u001b[0;34m(\u001b[0m\u001b[0;34m)\u001b[0m\u001b[0;34m\u001b[0m\u001b[0;34m\u001b[0m\u001b[0m\n",
      "\u001b[0;32m/usr/local/lib/python3.8/dist-packages/tensorflow/python/lib/io/file_io.py\u001b[0m in \u001b[0;36m_preread_check\u001b[0;34m(self)\u001b[0m\n\u001b[1;32m     77\u001b[0m         raise errors.PermissionDeniedError(None, None,\n\u001b[1;32m     78\u001b[0m                                            \"File isn't open for reading\")\n\u001b[0;32m---> 79\u001b[0;31m       self._read_buf = _pywrap_file_io.BufferedInputStream(\n\u001b[0m\u001b[1;32m     80\u001b[0m           compat.path_to_str(self.__name), 1024 * 512)\n\u001b[1;32m     81\u001b[0m \u001b[0;34m\u001b[0m\u001b[0m\n",
      "\u001b[0;31mNotFoundError\u001b[0m: ../solution/pipeline_new.config; No such file or directory"
     ]
    }
   ],
   "source": [
    "train_dataset = get_train_input(\"../solution/pipeline_new.config\")"
   ]
  },
  {
   "cell_type": "code",
   "execution_count": null,
   "id": "2b386604",
   "metadata": {},
   "outputs": [],
   "source": [
    "%matplotlib inline\n",
    "\n",
    "for batch in train_dataset.take(1):\n",
    "        display_batch(batch)"
   ]
  }
 ],
 "metadata": {
  "kernelspec": {
   "display_name": "Python 3 (ipykernel)",
   "language": "python",
   "name": "python3"
  },
  "language_info": {
   "codemirror_mode": {
    "name": "ipython",
    "version": 3
   },
   "file_extension": ".py",
   "mimetype": "text/x-python",
   "name": "python",
   "nbconvert_exporter": "python",
   "pygments_lexer": "ipython3",
   "version": "3.8.10"
  }
 },
 "nbformat": 4,
 "nbformat_minor": 5
}
